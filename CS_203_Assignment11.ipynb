{
  "nbformat": 4,
  "nbformat_minor": 0,
  "metadata": {
    "colab": {
      "provenance": []
    },
    "kernelspec": {
      "name": "python3",
      "display_name": "Python 3"
    },
    "language_info": {
      "name": "python"
    }
  },
  "cells": [
    {
      "cell_type": "code",
      "source": [
        "import pandas as pd\n",
        "from sklearn.model_selection import train_test_split\n",
        "from sklearn.feature_extraction.text import TfidfVectorizer"
      ],
      "metadata": {
        "id": "3WAfKdoRn087"
      },
      "execution_count": null,
      "outputs": []
    },
    {
      "cell_type": "code",
      "source": [
        "import os\n",
        "import copy\n",
        "import time\n",
        "import torch\n",
        "import torch.nn as nn\n",
        "import torch.quantization\n",
        "from torch.utils.data import Dataset, DataLoader, random_split"
      ],
      "metadata": {
        "id": "rR_MNYqL92Lq"
      },
      "execution_count": null,
      "outputs": []
    },
    {
      "cell_type": "code",
      "source": [
        "torch.manual_seed(29592) # for reproducibility"
      ],
      "metadata": {
        "colab": {
          "base_uri": "https://localhost:8080/"
        },
        "id": "X8n1Aluc9uP3",
        "outputId": "96bd3856-d442-42b7-acf4-a4260b33b8c9"
      },
      "execution_count": null,
      "outputs": [
        {
          "output_type": "execute_result",
          "data": {
            "text/plain": [
              "<torch._C.Generator at 0x7ad3eb6cdef0>"
            ]
          },
          "metadata": {},
          "execution_count": 3
        }
      ]
    },
    {
      "cell_type": "code",
      "source": [
        "# Load datasets without headers\n",
        "train_df = pd.read_csv(\n",
        "    'https://raw.githubusercontent.com/clairett/pytorch-sentiment-classification/master/data/SST2/train.tsv',\n",
        "    sep='\\t',\n",
        "    header=None,\n",
        "    names=[\"sentence\", \"label\"]\n",
        ")\n",
        "\n",
        "test_df = pd.read_csv(\n",
        "    'https://raw.githubusercontent.com/clairett/pytorch-sentiment-classification/master/data/SST2/test.tsv',\n",
        "    sep='\\t',\n",
        "    header=None,\n",
        "    names=[\"sentence\", \"label\"]\n",
        ")\n",
        "\n",
        "\n",
        "# Split training data into training and validation sets\n",
        "train_texts, val_texts, train_labels, val_labels = train_test_split(\n",
        "    train_df['sentence'], train_df['label'], test_size=0.2, random_state=42\n",
        ")\n"
      ],
      "metadata": {
        "id": "fnn0BCp9oG8g"
      },
      "execution_count": null,
      "outputs": []
    },
    {
      "cell_type": "code",
      "source": [
        "# Ensure all text data is in string format\n",
        "train_texts = train_texts.astype(str)\n",
        "val_texts = val_texts.astype(str)\n",
        "test_sentences = test_df['sentence'].astype(str)\n",
        "\n",
        "# TF-IDF Vectorization\n",
        "vectorizer = TfidfVectorizer(max_features=10000)\n",
        "X_train = vectorizer.fit_transform(train_texts).toarray()\n",
        "X_val = vectorizer.transform(val_texts).toarray()\n",
        "X_test = vectorizer.transform(test_sentences).toarray()\n",
        "\n",
        "y_train = train_labels.values\n",
        "y_val = val_labels.values\n",
        "y_test = test_df[\"label\"].values\n"
      ],
      "metadata": {
        "id": "GRNrb19-osng"
      },
      "execution_count": null,
      "outputs": []
    },
    {
      "cell_type": "code",
      "source": [
        "# Create custom dataset\n",
        "class prepareDataset(Dataset):\n",
        "    def __init__(self, data, labels):\n",
        "        self.data = torch.tensor(data, dtype=torch.float32)\n",
        "        self.labels = torch.tensor(labels, dtype=torch.long)\n",
        "\n",
        "    def __len__(self):\n",
        "        return len(self.labels)\n",
        "\n",
        "    def __getitem__(self, idx):\n",
        "        return self.data[idx], self.labels[idx]\n",
        "\n",
        "# Instantiate datasets and dataloaders\n",
        "train_dataset = prepareDataset(X_train, y_train)\n",
        "val_dataset = prepareDataset(X_val, y_val)\n",
        "test_dataset = prepareDataset(X_test, y_test)\n",
        "\n",
        "train_loader = DataLoader(train_dataset, batch_size=64, shuffle=True)\n",
        "val_loader = DataLoader(val_dataset, batch_size=64)\n",
        "test_loader = DataLoader(test_dataset, batch_size=64)"
      ],
      "metadata": {
        "id": "4c3TSbnHpaG_"
      },
      "execution_count": null,
      "outputs": []
    },
    {
      "cell_type": "markdown",
      "source": [
        "## Model Construction"
      ],
      "metadata": {
        "id": "CcOUThqmpnuY"
      }
    },
    {
      "cell_type": "code",
      "execution_count": null,
      "metadata": {
        "id": "7f6s2_ICzBFp",
        "colab": {
          "base_uri": "https://localhost:8080/"
        },
        "outputId": "bd2b84a7-3426-447e-f995-16c9ef4f66c8"
      },
      "outputs": [
        {
          "output_type": "stream",
          "name": "stdout",
          "text": [
            "Trainable parameters: 5293122\n"
          ]
        }
      ],
      "source": [
        "class MLP(nn.Module):\n",
        "    def __init__(self):\n",
        "        super(MLP, self).__init__()\n",
        "        self.model = nn.Sequential(\n",
        "            nn.Linear(10000, 512),\n",
        "            nn.ReLU(),\n",
        "            nn.Dropout(0.3),\n",
        "            nn.Linear(512, 256),\n",
        "            nn.ReLU(),\n",
        "            nn.Dropout(0.3),\n",
        "            nn.Linear(256, 128),\n",
        "            nn.ReLU(),\n",
        "            nn.Dropout(0.3),\n",
        "            nn.Linear(128, 64),\n",
        "            nn.ReLU(),\n",
        "            nn.Dropout(0.3),\n",
        "            nn.Linear(64, 2)\n",
        "        )\n",
        "\n",
        "    def forward(self, x):\n",
        "        return self.model(x)\n",
        "\n",
        "# Instantiate model\n",
        "model = MLP()\n",
        "\n",
        "# Count trainable parameters\n",
        "def count_parameters(model):\n",
        "    return sum(p.numel() for p in model.parameters() if p.requires_grad)\n",
        "\n",
        "print(f\"Trainable parameters: {count_parameters(model)}\")\n"
      ]
    },
    {
      "cell_type": "markdown",
      "source": [
        "## Model Training"
      ],
      "metadata": {
        "id": "9K_0CG7-qLAb"
      }
    },
    {
      "cell_type": "code",
      "source": [
        "import torch.optim as optim\n",
        "import matplotlib.pyplot as plt"
      ],
      "metadata": {
        "id": "dTP10LWTqMqR"
      },
      "execution_count": null,
      "outputs": []
    },
    {
      "cell_type": "code",
      "source": [
        "device = torch.device(\"cuda\" if torch.cuda.is_available() else \"cpu\")\n",
        "model.to(device)"
      ],
      "metadata": {
        "colab": {
          "base_uri": "https://localhost:8080/"
        },
        "id": "0RMgSh2zqUk4",
        "outputId": "48958bf9-026c-43e2-93ed-1b97ad33d568"
      },
      "execution_count": null,
      "outputs": [
        {
          "output_type": "execute_result",
          "data": {
            "text/plain": [
              "MLP(\n",
              "  (model): Sequential(\n",
              "    (0): Linear(in_features=10000, out_features=512, bias=True)\n",
              "    (1): ReLU()\n",
              "    (2): Dropout(p=0.3, inplace=False)\n",
              "    (3): Linear(in_features=512, out_features=256, bias=True)\n",
              "    (4): ReLU()\n",
              "    (5): Dropout(p=0.3, inplace=False)\n",
              "    (6): Linear(in_features=256, out_features=128, bias=True)\n",
              "    (7): ReLU()\n",
              "    (8): Dropout(p=0.3, inplace=False)\n",
              "    (9): Linear(in_features=128, out_features=64, bias=True)\n",
              "    (10): ReLU()\n",
              "    (11): Dropout(p=0.3, inplace=False)\n",
              "    (12): Linear(in_features=64, out_features=2, bias=True)\n",
              "  )\n",
              ")"
            ]
          },
          "metadata": {},
          "execution_count": 9
        }
      ]
    },
    {
      "cell_type": "code",
      "source": [
        "criterion = nn.CrossEntropyLoss()\n",
        "optimizer = optim.Adam(model.parameters(), lr=1e-3)\n",
        "\n",
        "num_epochs = 10\n",
        "best_val_acc = 0\n",
        "train_losses, val_losses, val_accuracies = [], [], []\n",
        "\n",
        "for epoch in range(num_epochs):\n",
        "    model.train()\n",
        "    running_loss = 0\n",
        "    for inputs, labels in train_loader:\n",
        "        inputs, labels = inputs.to(device), labels.to(device)\n",
        "\n",
        "        optimizer.zero_grad()\n",
        "        outputs = model(inputs)\n",
        "        loss = criterion(outputs, labels)\n",
        "        loss.backward()\n",
        "        optimizer.step()\n",
        "        running_loss += loss.item()\n",
        "\n",
        "    train_losses.append(running_loss / len(train_loader))\n",
        "\n",
        "    model.eval()\n",
        "    correct, total = 0, 0\n",
        "    val_loss = 0\n",
        "    with torch.no_grad():\n",
        "        for inputs, labels in val_loader:\n",
        "            inputs, labels = inputs.to(device), labels.to(device)\n",
        "            outputs = model(inputs)\n",
        "            loss = criterion(outputs, labels)\n",
        "            val_loss += loss.item()\n",
        "            _, predicted = torch.max(outputs, 1)\n",
        "            total += labels.size(0)\n",
        "            correct += (predicted == labels).sum().item()\n",
        "\n",
        "    val_acc = 100 * correct / total\n",
        "    val_losses.append(val_loss / len(val_loader))\n",
        "    val_accuracies.append(val_acc)\n",
        "\n",
        "    print(f\"Epoch {epoch+1}, Val Accuracy: {val_acc:.2f}%\")\n",
        "\n",
        "    # Save best model\n",
        "    if val_acc > best_val_acc:\n",
        "        best_val_acc = val_acc\n",
        "        torch.save(model.state_dict(), \"checkpoint.pt\")\n",
        "\n",
        "# Plotting\n",
        "plt.figure(figsize=(10,5))\n",
        "plt.subplot(1, 2, 1)\n",
        "plt.plot(train_losses, label='Train Loss')\n",
        "plt.plot(val_losses, label='Val Loss')\n",
        "plt.legend()\n",
        "plt.title(\"Loss over Epochs\")\n",
        "\n",
        "plt.subplot(1, 2, 2)\n",
        "plt.plot(val_accuracies, label='Val Accuracy')\n",
        "plt.legend()\n",
        "plt.title(\"Accuracy over Epochs\")\n",
        "plt.show()"
      ],
      "metadata": {
        "colab": {
          "base_uri": "https://localhost:8080/",
          "height": 650
        },
        "id": "D_fKsmwqomkC",
        "outputId": "e41fb919-5baf-4f06-f5b8-2f24734a4812"
      },
      "execution_count": null,
      "outputs": [
        {
          "output_type": "stream",
          "name": "stdout",
          "text": [
            "Epoch 1, Val Accuracy: 79.12%\n",
            "Epoch 2, Val Accuracy: 79.70%\n",
            "Epoch 3, Val Accuracy: 78.97%\n",
            "Epoch 4, Val Accuracy: 79.34%\n",
            "Epoch 5, Val Accuracy: 78.47%\n",
            "Epoch 6, Val Accuracy: 78.68%\n",
            "Epoch 7, Val Accuracy: 78.32%\n",
            "Epoch 8, Val Accuracy: 78.25%\n",
            "Epoch 9, Val Accuracy: 78.11%\n",
            "Epoch 10, Val Accuracy: 78.11%\n"
          ]
        },
        {
          "output_type": "display_data",
          "data": {
            "text/plain": [
              "<Figure size 1000x500 with 2 Axes>"
            ],
            "image/png": "[encoded data removed]"
          },
          "metadata": {}
        }
      ]
    },
    {
      "cell_type": "markdown",
      "source": [
        "## Utility functions for calculating model size, latency and accuracy"
      ],
      "metadata": {
        "id": "B4BmHUK6bTC_"
      }
    },
    {
      "cell_type": "code",
      "source": [
        "# Measure size\n",
        "def get_model_size(model, label=\"\"):\n",
        "  torch.save(model.state_dict(), \"temp.p\")\n",
        "  size = os.path.getsize(\"temp.p\")\n",
        "  print(\"model : \", label, ' \\t', 'Size (KB):', size/1e3)\n",
        "  os.remove('temp.p')\n",
        "  return size\n",
        "\n",
        "# Measure Latency\n",
        "def measure_latency(model, inputs, iterations=100, use_half=False):\n",
        "    model.eval()\n",
        "    if use_half:\n",
        "      inputs = inputs.half()\n",
        "    start_time = time.time()\n",
        "    for _ in range(iterations):\n",
        "        with torch.no_grad():\n",
        "            model(inputs)\n",
        "    end_time = time.time()\n",
        "    avg_time = (end_time - start_time) / iterations\n",
        "    return avg_time\n",
        "\n",
        "# Measure accuracy function\n",
        "def calculate_accuracy(model, dataloader, use_half=False):\n",
        "    model.eval()\n",
        "    correct, total = 0, 0\n",
        "    with torch.no_grad():\n",
        "        for inputs, labels in dataloader:\n",
        "            inputs, labels = inputs.to(device), labels.to(device)\n",
        "            if use_half:\n",
        "              inputs = inputs.half()\n",
        "            outputs = model(inputs)\n",
        "            _, predicted = torch.max(outputs, 1)\n",
        "            total += labels.size(0)\n",
        "            correct += (predicted == labels).sum().item()\n",
        "    accuracy = 100 * correct / total\n",
        "    return accuracy"
      ],
      "metadata": {
        "id": "si-5hBN-bfpX"
      },
      "execution_count": null,
      "outputs": []
    },
    {
      "cell_type": "code",
      "source": [
        "print(next(model.parameters()).dtype)"
      ],
      "metadata": {
        "colab": {
          "base_uri": "https://localhost:8080/"
        },
        "id": "V4Two_9I-Ytf",
        "outputId": "8ae1f316-2e7b-4c45-f162-bfdb2176889b"
      },
      "execution_count": null,
      "outputs": [
        {
          "output_type": "stream",
          "name": "stdout",
          "text": [
            "torch.float32\n"
          ]
        }
      ]
    },
    {
      "cell_type": "code",
      "source": [
        "sample_input = torch.randn(1, 10000).to(device)"
      ],
      "metadata": {
        "id": "dPxggaUagGHk"
      },
      "execution_count": null,
      "outputs": []
    },
    {
      "cell_type": "markdown",
      "source": [
        "## Base Model"
      ],
      "metadata": {
        "id": "JQ2BiHoicZSg"
      }
    },
    {
      "cell_type": "code",
      "source": [
        "print(\"original model is : \", model)"
      ],
      "metadata": {
        "colab": {
          "base_uri": "https://localhost:8080/"
        },
        "id": "_v0_lCpdc-__",
        "outputId": "c8e2221b-319a-408e-a64d-6ddd20ad95a3"
      },
      "execution_count": null,
      "outputs": [
        {
          "output_type": "stream",
          "name": "stdout",
          "text": [
            "original model is :  MLP(\n",
            "  (model): Sequential(\n",
            "    (0): Linear(in_features=10000, out_features=512, bias=True)\n",
            "    (1): ReLU()\n",
            "    (2): Dropout(p=0.3, inplace=False)\n",
            "    (3): Linear(in_features=512, out_features=256, bias=True)\n",
            "    (4): ReLU()\n",
            "    (5): Dropout(p=0.3, inplace=False)\n",
            "    (6): Linear(in_features=256, out_features=128, bias=True)\n",
            "    (7): ReLU()\n",
            "    (8): Dropout(p=0.3, inplace=False)\n",
            "    (9): Linear(in_features=128, out_features=64, bias=True)\n",
            "    (10): ReLU()\n",
            "    (11): Dropout(p=0.3, inplace=False)\n",
            "    (12): Linear(in_features=64, out_features=2, bias=True)\n",
            "  )\n",
            ")\n"
          ]
        }
      ]
    },
    {
      "cell_type": "code",
      "source": [
        "# Measuring base model size\n",
        "base_model_size = get_model_size(model, \"base(fp32)\")\n",
        "\n",
        "# Measure latency for base model\n",
        "latency_base = measure_latency(model, sample_input)\n",
        "print(f\"Base(fp32) Model Latency : {latency_base * 1000:.6f} ms\")\n",
        "\n",
        "# Calculate accuracy for the dynamic quantized model\n",
        "accuracy_base = calculate_accuracy(model, test_loader)\n",
        "print(f\"Accuracy of base(fp32) model on test data: {accuracy_base:.2f}%\")"
      ],
      "metadata": {
        "colab": {
          "base_uri": "https://localhost:8080/"
        },
        "id": "difR5HBdcgv2",
        "outputId": "25e75b3b-6e33-4d6c-cdbf-a93c776b13d7"
      },
      "execution_count": null,
      "outputs": [
        {
          "output_type": "stream",
          "name": "stdout",
          "text": [
            "model :  base(fp32)  \t Size (KB): 21175.758\n",
            "Base(fp32) Model Latency : 2.378950 ms\n",
            "Accuracy of base(fp32) model on test data: 77.76%\n"
          ]
        }
      ]
    },
    {
      "cell_type": "markdown",
      "source": [
        "## Dynamic Quantization"
      ],
      "metadata": {
        "id": "vs2uRxmE5bN7"
      }
    },
    {
      "cell_type": "code",
      "source": [
        "dynamic_quantized_model = torch.quantization.quantize_dynamic(\n",
        "    model, {nn.Linear}, dtype = torch.qint8\n",
        ")\n",
        "print(\"Dynamic quantized models is : \", dynamic_quantized_model)"
      ],
      "metadata": {
        "id": "l5tcKmrIqYYU",
        "colab": {
          "base_uri": "https://localhost:8080/"
        },
        "outputId": "9024a191-99f8-4eb8-cc68-8b3af50f81a4"
      },
      "execution_count": null,
      "outputs": [
        {
          "output_type": "stream",
          "name": "stdout",
          "text": [
            "Dynamic quantized models is :  MLP(\n",
            "  (model): Sequential(\n",
            "    (0): DynamicQuantizedLinear(in_features=10000, out_features=512, dtype=torch.qint8, qscheme=torch.per_tensor_affine)\n",
            "    (1): ReLU()\n",
            "    (2): Dropout(p=0.3, inplace=False)\n",
            "    (3): DynamicQuantizedLinear(in_features=512, out_features=256, dtype=torch.qint8, qscheme=torch.per_tensor_affine)\n",
            "    (4): ReLU()\n",
            "    (5): Dropout(p=0.3, inplace=False)\n",
            "    (6): DynamicQuantizedLinear(in_features=256, out_features=128, dtype=torch.qint8, qscheme=torch.per_tensor_affine)\n",
            "    (7): ReLU()\n",
            "    (8): Dropout(p=0.3, inplace=False)\n",
            "    (9): DynamicQuantizedLinear(in_features=128, out_features=64, dtype=torch.qint8, qscheme=torch.per_tensor_affine)\n",
            "    (10): ReLU()\n",
            "    (11): Dropout(p=0.3, inplace=False)\n",
            "    (12): DynamicQuantizedLinear(in_features=64, out_features=2, dtype=torch.qint8, qscheme=torch.per_tensor_affine)\n",
            "  )\n",
            ")\n"
          ]
        }
      ]
    },
    {
      "cell_type": "code",
      "source": [
        "# Measuring dynamic quantized model size\n",
        "dynamic_quantized_model_size = get_model_size(dynamic_quantized_model, \"int8\")\n",
        "print(\"{0:.2f} time smaller\".format(base_model_size/dynamic_quantized_model_size))\n",
        "\n",
        "# Measure latency for dynamic quantized model (INT8)\n",
        "latency_dynamic_quantized = measure_latency(dynamic_quantized_model, sample_input)\n",
        "print(f\"Dynamic Quantized Model Latency (INT8): {latency_dynamic_quantized * 1000:.6f} ms\")\n",
        "\n",
        "# Calculate accuracy for the dynamic quantized model\n",
        "accuracy_int8 = calculate_accuracy(dynamic_quantized_model, test_loader)\n",
        "print(f\"Accuracy of INT8 (dynamic quantized) model on test data: {accuracy_int8:.2f}%\")"
      ],
      "metadata": {
        "id": "p8GdHnTJ8byx",
        "colab": {
          "base_uri": "https://localhost:8080/"
        },
        "outputId": "98e04c76-3236-46fc-b02d-fe37b9901620"
      },
      "execution_count": null,
      "outputs": [
        {
          "output_type": "stream",
          "name": "stdout",
          "text": [
            "model :  int8  \t Size (KB): 5302.482\n",
            "3.99 time smaller\n",
            "Dynamic Quantized Model Latency (INT8): 1.012747 ms\n",
            "Accuracy of INT8 (dynamic quantized) model on test data: 77.81%\n"
          ]
        }
      ]
    },
    {
      "cell_type": "markdown",
      "source": [
        "## Half Precision"
      ],
      "metadata": {
        "id": "rhTmn_ID_B9R"
      }
    },
    {
      "cell_type": "code",
      "source": [
        "# Half Precision (FP16)\n",
        "half_precision_model = model.half()\n",
        "print(f\"Half precision model: {half_precision_model}\")\n"
      ],
      "metadata": {
        "id": "4CyF4g7H-78c",
        "colab": {
          "base_uri": "https://localhost:8080/"
        },
        "outputId": "e709c62f-6e11-4abb-c5fb-27fa7e361c4e"
      },
      "execution_count": null,
      "outputs": [
        {
          "output_type": "stream",
          "name": "stdout",
          "text": [
            "Half precision model: MLP(\n",
            "  (model): Sequential(\n",
            "    (0): Linear(in_features=10000, out_features=512, bias=True)\n",
            "    (1): ReLU()\n",
            "    (2): Dropout(p=0.3, inplace=False)\n",
            "    (3): Linear(in_features=512, out_features=256, bias=True)\n",
            "    (4): ReLU()\n",
            "    (5): Dropout(p=0.3, inplace=False)\n",
            "    (6): Linear(in_features=256, out_features=128, bias=True)\n",
            "    (7): ReLU()\n",
            "    (8): Dropout(p=0.3, inplace=False)\n",
            "    (9): Linear(in_features=128, out_features=64, bias=True)\n",
            "    (10): ReLU()\n",
            "    (11): Dropout(p=0.3, inplace=False)\n",
            "    (12): Linear(in_features=64, out_features=2, bias=True)\n",
            "  )\n",
            ")\n"
          ]
        }
      ]
    },
    {
      "cell_type": "code",
      "source": [
        "# Measuring half-precision model size\n",
        "half_precision_model_size = get_model_size(half_precision_model, \"fp16\")\n",
        "print(f\"{base_model_size / half_precision_model_size:.2f} times smaller\")\n",
        "\n",
        "# Measure latency for half-precision (FP16) model\n",
        "latency_fp16 = measure_latency(half_precision_model, sample_input, use_half = True)\n",
        "print(f\"FP16 Model Latency: {latency_fp16 * 1000:.6f} ms\")\n",
        "\n",
        "# Calculate accuracy for the FP16 model\n",
        "accuracy_fp16 = calculate_accuracy(half_precision_model, test_loader, use_half=True)\n",
        "print(f\"Accuracy of FP16 model on test data: {accuracy_fp16:.2f}%\")"
      ],
      "metadata": {
        "colab": {
          "base_uri": "https://localhost:8080/"
        },
        "id": "ZhW6P15khhTb",
        "outputId": "3f0aafa2-177a-4ccf-c957-ba50fc749040"
      },
      "execution_count": null,
      "outputs": [
        {
          "output_type": "stream",
          "name": "stdout",
          "text": [
            "model :  fp16  \t Size (KB): 10589.518\n",
            "2.00 times smaller\n",
            "FP16 Model Latency: 1.922121 ms\n",
            "Accuracy of FP16 model on test data: 77.76%\n"
          ]
        }
      ]
    },
    {
      "cell_type": "code",
      "source": [
        "print(\"\\n{:<5} {:<15} {:<25} {:<20} {:<20}\".format(\"S.I.\", \"Model Name\", \"Accuracy (Out of 100)\", \"Storage (In MB)\", \"Inference Time (ms)\"))\n",
        "print(\"{:<5} {:<15} {:<25.2f} {:<20.2f} {:<20.4f}\".format(1, \"Original (FP32)\", accuracy_base, base_model_size / 1e6, latency_base * 1000))\n",
        "print(\"{:<5} {:<15} {:<25.2f} {:<20.2f} {:<20.4f}\".format(2, \"Dynamic (INT8)\", accuracy_int8, dynamic_quantized_model_size / 1e6, latency_dynamic_quantized * 1000))\n",
        "print(\"{:<5} {:<15} {:<25.2f} {:<20.2f} {:<20.4f}\".format(3, \"Half (FP16)\", accuracy_fp16, half_precision_model_size / 1e6, latency_fp16 * 1000))\n"
      ],
      "metadata": {
        "id": "eh-T4uWqkkNw",
        "colab": {
          "base_uri": "https://localhost:8080/"
        },
        "outputId": "f1ae6ee4-6cc8-47c8-89f8-6c63efa7b608"
      },
      "execution_count": null,
      "outputs": [
        {
          "output_type": "stream",
          "name": "stdout",
          "text": [
            "\n",
            "S.I.  Model Name      Accuracy (Out of 100)     Storage (In MB)      Inference Time (ms) \n",
            "1     Original (FP32) 77.76                     21.18                2.3790              \n",
            "2     Dynamic (INT8)  77.81                     5.30                 1.0127              \n",
            "3     Half (FP16)     77.76                     10.59                1.9221              \n"
          ]
        }
      ]
    }
  ]
}